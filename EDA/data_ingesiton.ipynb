{
 "cells": [
  {
   "cell_type": "code",
   "execution_count": 11,
   "id": "647250b8",
   "metadata": {},
   "outputs": [],
   "source": [
    "import pandas as pd\n",
    "import os\n",
    "from sqlalchemy import create_engine\n",
    "import logging\n",
    "import time\n",
    "\n",
    "logging.basicConfig(\n",
    "    filename='logs2/ingestion_db.log',\n",
    "    level=logging.DEBUG,\n",
    "    format='%(asctime)s - %(levelname)s - %(message)s',\n",
    "    filemode=\"a\"\n",
    ")\n"
   ]
  },
  {
   "cell_type": "code",
   "execution_count": 15,
   "id": "519aac88",
   "metadata": {},
   "outputs": [],
   "source": [
    "from sqlalchemy import create_engine\n",
    "import logging\n",
    "import time\n",
    "\n",
    "logging.basicConfig(\n",
    "    filename='logs2/ingestion_db.log',\n",
    "    level=logging.DEBUG,\n",
    "    format='%(asctime)s - %(levelname)s - %(message)s',\n",
    "    filemode=\"a\"\n",
    ")\n",
    "\n",
    "engine = create_engine('sqlite:///inverntory.db')\n",
    "\n",
    "def ingest_db(df, table_name,engine):\n",
    "    df.to_sql(table_name,con=engine,if_exists='replace',index=False)\n",
    "    \n",
    "def load_raw_data():\n",
    "    start = time.time()\n",
    "    for file in os.listdir('Untitled Folder 1'):\n",
    "        if '.csv' in file:\n",
    "            df = pd.read_csv('Untitled Folder 1/'+file)\n",
    "            logging.info(f\"Ingesting {file} in db\")\n",
    "            ingest_db(df, file[:-4], engine)\n",
    "    end = time.time()\n",
    "    target_time = (end-start)/60\n",
    "    logging.info(\"Ingestion Complete\")\n",
    "    logging.info(f\"total time taken: {target_time} minute\")\n",
    "\n",
    "\n",
    "if __name__ =='__main__':\n",
    "    load_raw_data()\n",
    "    "
   ]
  },
  {
   "cell_type": "code",
   "execution_count": 1,
   "id": "d8c9d02d",
   "metadata": {},
   "outputs": [],
   "source": [
    "import pandas as pd\n",
    "import sqlite3"
   ]
  },
  {
   "cell_type": "code",
   "execution_count": 6,
   "id": "0023e03d",
   "metadata": {},
   "outputs": [],
   "source": [
    "conn = sqlite3.connect('inventory.db')"
   ]
  },
  {
   "cell_type": "code",
   "execution_count": null,
   "id": "8b06c12d",
   "metadata": {},
   "outputs": [],
   "source": []
  }
 ],
 "metadata": {
  "kernelspec": {
   "display_name": "Python 3 (ipykernel)",
   "language": "python",
   "name": "python3"
  },
  "language_info": {
   "codemirror_mode": {
    "name": "ipython",
    "version": 3
   },
   "file_extension": ".py",
   "mimetype": "text/x-python",
   "name": "python",
   "nbconvert_exporter": "python",
   "pygments_lexer": "ipython3",
   "version": "3.11.5"
  }
 },
 "nbformat": 4,
 "nbformat_minor": 5
}
